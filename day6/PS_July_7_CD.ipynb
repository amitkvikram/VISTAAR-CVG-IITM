{
 "cells": [
  {
   "cell_type": "markdown",
   "metadata": {},
   "source": [
    "# PS for July 7\n",
    "\n",
    "#### Basic Assumptions:\n",
    "\n",
    "1. You are running Python version 3.x+\n",
    "2. Pip , Jupyter, Conda (optional) packages have been installed\n",
    "3. Since this is a Jupyter NB, you may code right below.\n",
    "\n",
    "## Topic 1: Corner Detection\n",
    "\n",
    "#### 1. Implement the Kanade-Tomasi/Shi-Tomasi Corner Detector.\n",
    "\n",
    "We'll follow the below steps:\n",
    "\n",
    "a)** Sobel Gradient**\n",
    "\n",
    "Compute a horizontal $ Ix $ and a vertical gradient image $ Iy $ using the Sobel filter masks.\n",
    "\n",
    "b) **Structure Tensor**\n",
    "Compute the structure tensor $ A(x, y) $ for each image point of an area of n × n:\n",
    "                           \n",
    "\n",
    "$$ A(x,y)= \\sum\\limits_{u=-n/2}^\\frac{n}{2} \\sum\\limits_{v=-n/2}^\\frac{n}{2}\\left[ {\\begin{array}{cc}\n",
    "   Ix(x + u, y + v)^2 & Ix(x + u, y + v)Iy(x + u, y + v) \\\\\n",
    "   Ix(x + u, y + v)Iy(x + u, y + v) & Iy(x + u, y + v)^2 \\\\\n",
    "  \\end{array} } \\right] $$\n",
    "\t(for brevity, the sum involves two indices, and over  2*2 matrices)\n",
    "\n",
    "\n",
    "\n",
    "c)\t** Kanade-Tomasi/Shi-Tomasi Corner Detection **  \n",
    "\tCompute the eigenvalues $ λ1 $ and $ λ2 $ of $ A(x, y) $.   \n",
    "\tMark (x, y) in the original image (use a circle or cross) if $ min(λ1, λ2) > tc $\n",
    "\t, where tc is the threshold for corner detection.\n",
    "\n",
    "Put all corner candidates with $ λ1>threshold $ in a list. \n",
    "  Sort it by $ λ1 $. Go through the list and remove all candidates in an m×m neighborhood from the list. Then remove the current value from the list and continue until the list is empty\n",
    "    \n"
   ]
  },
  {
   "cell_type": "markdown",
   "metadata": {},
   "source": [
    "#### 2. Compare the results to OpenCv's corner detection algorithm. \n",
    "\n",
    "OpenCV uses the Harris corner detection algorithm. Shi-Tomasi works much better in cases where Harris fails.\n",
    "\n",
    "While Shi-Tomasi uses minimum eigenvalue, Harris uses a R score to determine corners.\n",
    "\n",
    "$ R = \\det{A} - \\alpha* trace(A)^2 $\n",
    "\n",
    "The point with maximum R score within a mxm neighbourhood is declared a corner.\n",
    "\n",
    "Harris tends to detect corners quite close to each other as compared to Shi-Tomasi.\n",
    "\n",
    "Another method, Brown corner algorithm, uses $$ \\frac{det(A)}{trace(A)} $$"
   ]
  },
  {
   "cell_type": "markdown",
   "metadata": {},
   "source": [
    "### Resources\n",
    "\n",
    "1. http://www.cs.ucf.edu/~mtappen/cap5415/lecs/lec5.pdf\n",
    "2. "
   ]
  },
  {
   "cell_type": "code",
   "execution_count": 6,
   "metadata": {},
   "outputs": [
    {
     "ename": "error",
     "evalue": "/io/opencv/modules/highgui/src/window.cpp:583: error: (-2) The function is not implemented. Rebuild the library with Windows, GTK+ 2.x or Carbon support. If you are on Ubuntu or Debian, install libgtk2.0-dev and pkg-config, then re-run cmake or configure script in function cvShowImage\n",
     "output_type": "error",
     "traceback": [
      "\u001b[0;31m-------------------------------------------------------------------\u001b[0m",
      "\u001b[0;31merror\u001b[0m                             Traceback (most recent call last)",
      "\u001b[0;32m<ipython-input-6-85854e7a93ae>\u001b[0m in \u001b[0;36m<module>\u001b[0;34m()\u001b[0m\n\u001b[1;32m     19\u001b[0m \u001b[0mimg\u001b[0m\u001b[0;34m=\u001b[0m\u001b[0mcv2\u001b[0m\u001b[0;34m.\u001b[0m\u001b[0mimread\u001b[0m\u001b[0;34m(\u001b[0m\u001b[0;34m'lenna.png'\u001b[0m\u001b[0;34m,\u001b[0m\u001b[0;34m-\u001b[0m\u001b[0;36m1\u001b[0m\u001b[0;34m)\u001b[0m\u001b[0;34m\u001b[0m\u001b[0m\n\u001b[1;32m     20\u001b[0m \u001b[0mimg\u001b[0m\u001b[0;34m=\u001b[0m\u001b[0mcv2\u001b[0m\u001b[0;34m.\u001b[0m\u001b[0mcvtColor\u001b[0m\u001b[0;34m(\u001b[0m\u001b[0mimg\u001b[0m\u001b[0;34m,\u001b[0m\u001b[0mcv2\u001b[0m\u001b[0;34m.\u001b[0m\u001b[0mCOLOR_BGR2GRAY\u001b[0m\u001b[0;34m)\u001b[0m\u001b[0;34m\u001b[0m\u001b[0m\n\u001b[0;32m---> 21\u001b[0;31m \u001b[0mcv2\u001b[0m\u001b[0;34m.\u001b[0m\u001b[0mimshow\u001b[0m\u001b[0;34m(\u001b[0m\u001b[0;34m'image'\u001b[0m\u001b[0;34m,\u001b[0m\u001b[0mimg\u001b[0m\u001b[0;34m)\u001b[0m\u001b[0;34m\u001b[0m\u001b[0m\n\u001b[0m\u001b[1;32m     22\u001b[0m \u001b[0;34m\u001b[0m\u001b[0m\n\u001b[1;32m     23\u001b[0m \u001b[0ma\u001b[0m\u001b[0;34m=\u001b[0m\u001b[0;36m20\u001b[0m\u001b[0;34m\u001b[0m\u001b[0m\n",
      "\u001b[0;31merror\u001b[0m: /io/opencv/modules/highgui/src/window.cpp:583: error: (-2) The function is not implemented. Rebuild the library with Windows, GTK+ 2.x or Carbon support. If you are on Ubuntu or Debian, install libgtk2.0-dev and pkg-config, then re-run cmake or configure script in function cvShowImage\n"
     ]
    }
   ],
   "source": [
    "#!/usr/bin/python\n",
    "from __future__ import print_function\n",
    "import numpy as np\n",
    "import cv2\n",
    "from matplotlib import pyplot as plt\n",
    "import math\n",
    "\n",
    "def transfor(img,a,b,c,d):\n",
    "    print((d-c))\n",
    "    print((b-a))\n",
    "\n",
    "    m= (float(d -c )/(b-a))\n",
    "    img1=(m*(img-a))+c\n",
    "    print(m)\n",
    "    img1=img1.astype('uint8')\n",
    "\n",
    "    return img1\n",
    "\n",
    "img=cv2.imread('lenna.png',-1)\n",
    "img=cv2.cvtColor(img,cv2.COLOR_BGR2GRAY)\n",
    "cv2.imshow('image',img)\n",
    "\n",
    "a=20\n",
    "b=220\n",
    "c=75\n",
    "d=100\n",
    "plt.subplot(2,1,1)\n",
    "img1=transfor(img,a,b,c,d)\n",
    "plt.hist(img.flat, bins=256)\n",
    "cv2.imshow('image1',img1)\n",
    "if cv2.waitKey(0)==27:\n",
    "    cv2.destroyAllWindows()\n",
    "plt.subplot(2,1,2)\n",
    "plt.hist(img1.flat, bins=256)\n",
    "plt.show()\n"
   ]
  }
 ],
 "metadata": {
  "kernelspec": {
   "display_name": "Python 3",
   "language": "python",
   "name": "python3"
  },
  "language_info": {
   "codemirror_mode": {
    "name": "ipython",
    "version": 3
   },
   "file_extension": ".py",
   "mimetype": "text/x-python",
   "name": "python",
   "nbconvert_exporter": "python",
   "pygments_lexer": "ipython3",
   "version": "3.5.3"
  }
 },
 "nbformat": 4,
 "nbformat_minor": 2
}
